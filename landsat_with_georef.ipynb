{
 "cells": [
  {
   "cell_type": "code",
   "execution_count": null,
   "id": "fe807c6b-8d71-4f92-996b-5e39a5b9bb9e",
   "metadata": {},
   "outputs": [],
   "source": [
    "# Load the geotiff\n",
    "%matplotlib widget\n",
    "# Now, note that our .tiff image is actually a GEOTIFF. This means that it has geographic information built-in\n",
    "import cartopy.crs as ccrs\n",
    "import rasterio\n",
    "import numpy as np \n",
    "# filename = 'LT05_L1TP_153042_19990321_20200908_02_T1_refl.tif'\n",
    "base_filename = 'landsat_images/LT05_L1TP_153043_19990406_20200908_02_T1_'\n",
    "r_filename = base_filename + 'B4.TIF';\n",
    "g_filename = base_filename + 'B3.TIF';\n",
    "b_filename = base_filename + 'B2.TIF';\n",
    "\n",
    "r_raster = rasterio.open(r_filename,'r') # open for reading\n",
    "r_landsat = r_raster.read() # read the image from the rasterio context\n",
    "g_raster = rasterio.open(g_filename,'r') # open for reading\n",
    "g_landsat = g_raster.read() # read the image from the rasterio context\n",
    "b_raster = rasterio.open(b_filename,'r') # open for reading\n",
    "b_landsat = b_raster.read() # read the image from the rasterio context\n",
    "\n",
    "print(r_landsat.shape)\n",
    "# Note - the landsat image is 3x(ny)x(nx). Reshape the image to be (ny)x(nx)x3 via transpose:\n",
    "landsat = r_landsat.transpose((1,2,0))\n",
    "# Print out the meta-data. This contains information about the value used to fill missing data and some other things.\n",
    "print(r_raster.meta)"
   ]
  },
  {
   "cell_type": "code",
   "execution_count": null,
   "id": "b8e30b47-ab42-4a68-ae61-9bc7f47e9fec",
   "metadata": {},
   "outputs": [],
   "source": [
    "test=np.concatenate((r_landsat,g_landsat,b_landsat))\n",
    "test.shape\n",
    "landsat = test.transpose((1,2,0))\n",
    "\n",
    "np.max(b_landsat[:])"
   ]
  },
  {
   "cell_type": "markdown",
   "id": "5ffaeee4-d0bb-45c7-ba41-120de19333b2",
   "metadata": {},
   "source": [
    "# Coordinate system\n",
    "\n",
    "Based on the information in the metadata for the image and information on epsg.io:\n",
    "\n",
    "EPSG:32642\n",
    "\n",
    "WGS 84 / UTM zone 42N"
   ]
  },
  {
   "cell_type": "code",
   "execution_count": null,
   "id": "e2ff1391-3522-48d2-a380-fcaa1bc1fe54",
   "metadata": {},
   "outputs": [],
   "source": [
    "import matplotlib.pyplot as plt\n",
    "plt.imshow(landsat)\n",
    "plt.show()"
   ]
  },
  {
   "cell_type": "code",
   "execution_count": null,
   "id": "cb6f21ce-8203-4b7e-80d3-c9529ee20ebf",
   "metadata": {},
   "outputs": [],
   "source": [
    "# Get more information about the coordinates\n",
    "raster = r_raster\n",
    "\n",
    "upper_left = raster.transform * (0,0)\n",
    "lower_right = raster.transform * (raster.width,raster.height)\n",
    "\n",
    "upper_right = raster.transform * (raster.width,0)\n",
    "lower_left = raster.transform * (0,raster.height)\n",
    "\n",
    "print(upper_left)\n",
    "print(lower_right)\n",
    "xmin=upper_left[0]\n",
    "xmax=lower_right[0]\n",
    "ymin=lower_right[1]\n",
    "ymax=upper_left[1]\n",
    "\n",
    "plt.figure()\n",
    "plt.plot(upper_left[0],upper_left[1],'.')\n",
    "plt.plot(upper_right[0],upper_right[1],'.')\n",
    "plt.plot(lower_left[0],lower_left[1],'.')\n",
    "plt.plot(lower_right[0],lower_right[1],'.')\n",
    "plt.title('Coordinates of corners of image, in UTM')\n",
    "plt.xlabel('Easting (m)')\n",
    "plt.ylabel('Northing (m)')\n",
    "plt.show()"
   ]
  },
  {
   "cell_type": "code",
   "execution_count": null,
   "id": "9a56aaf3-0373-4e31-93af-ec2f3db5cce3",
   "metadata": {},
   "outputs": [],
   "source": [
    "import numpy as np\n",
    "x_values = np.linspace(lower_left[0],lower_right[0],raster.width)\n",
    "y_values = np.linspace(upper_left[1],lower_right[1],raster.height)\n",
    "%matplotlib widget\n",
    "\n",
    "fig,ax = plt.subplots(1,1)\n",
    "cm = plt.get_cmap('terrain')\n",
    "h=ax.pcolorfast(x_values,y_values,landsat,cmap=cm)\n",
    "\n",
    "ax.set_xlabel('Easting (m)')\n",
    "ax.set_ylabel('Northing (m)')\n",
    "ax.set_aspect('equal','box')\n",
    "plt.show()"
   ]
  },
  {
   "cell_type": "code",
   "execution_count": null,
   "id": "488935e0-ac6c-4bff-b15c-c54883518c71",
   "metadata": {},
   "outputs": [],
   "source": [
    "def read_landsat(base_filename):\n",
    "    # INPUT should be the filename up to the T1\n",
    "    # OUTPUT will be x,y,image\n",
    "    # where x is the x coordinates in m east\n",
    "    # y is the y coordinates in m north\n",
    "    # image is (ny x nx x 3) matrix containing the landsat scene\n",
    "    bands = (4,3,2)\n",
    "    r_filename = base_filename + 'B{:d}.TIF'.format(bands[0]);\n",
    "    g_filename = base_filename + 'B{:d}.TIF'.format(bands[1]);\n",
    "    b_filename = base_filename + 'B{:d}.TIF'.format(bands[2]);\n",
    "    # Load R,G,B, bands from separate files\n",
    "    r_raster = rasterio.open(r_filename,'r') # open for reading\n",
    "    r_landsat = r_raster.read() # read the image from the rasterio context\n",
    "    g_raster = rasterio.open(g_filename,'r') # open for reading\n",
    "    g_landsat = g_raster.read() # read the image from the rasterio context\n",
    "    b_raster = rasterio.open(b_filename,'r') # open for reading\n",
    "    b_landsat = b_raster.read() # read the image from the rasterio context\n",
    "    # Combine the three separate bands into a sigle image\n",
    "    landsat = np.concatenate((r_landsat,g_landsat,b_landsat))\n",
    "    landsat = landsat.transpose((1,2,0))\n",
    "    # Get coordinate information:\n",
    "    raster = r_raster\n",
    "    upper_left = raster.transform * (0,0)\n",
    "    lower_right = raster.transform * (raster.width,raster.height)\n",
    "    upper_right = raster.transform * (raster.width,0)\n",
    "    lower_left = raster.transform * (0,raster.height)\n",
    "    x_values = np.linspace(lower_left[0],lower_right[0],raster.width)\n",
    "    y_values = np.linspace(upper_left[1],lower_right[1],raster.height)\n",
    "    # return x, y, and the image\n",
    "    return x_values, y_values, landsat\n",
    "\n",
    "def subset_from_coordinates(x,y,image,new_x_range,new_y_range):\n",
    "    maskx = np.where(np.logical_and(x >= new_x_range[0],x <= new_x_range[1]))[0]\n",
    "    masky = np.where(np.logical_and(y >= new_y_range[0],y <= new_y_range[1]))[0]\n",
    "    new_x = x[maskx]\n",
    "    new_y = y[masky]\n",
    "    print(maskx)\n",
    "    new_image = image[masky,:,:]\n",
    "    new_image = new_image[:,maskx,:]\n",
    "    return new_x,new_y,new_image\n",
    "    \n",
    "base_filename = 'landsat_images/LT05_L1TP_153043_19990406_20200908_02_T1_'\n",
    "x,y,image = read_landsat(base_filename)\n",
    "%matplotlib inline\n",
    "fig,ax = plt.subplots(1,1)\n",
    "cm = plt.get_cmap('terrain')\n",
    "h=ax.pcolorfast(x,y,image,cmap=cm)\n",
    "ax.set_xlim((760000,774000))\n",
    "ax.set_ylim((2802000,2807000))\n",
    "ax.set_aspect('equal')\n",
    "\n",
    "newx,newy,newim = subset_from_coordinates(x,y,image,(760000,774000),(2802000,2807000))\n",
    "fig,ax = plt.subplots(1,1)\n",
    "h=ax.pcolorfast(newx,newy,newim,cmap=cm)\n",
    "ax.set_aspect('equal')"
   ]
  },
  {
   "cell_type": "code",
   "execution_count": null,
   "id": "32945ca8-eafb-4557-97ae-ba541e8b206e",
   "metadata": {},
   "outputs": [],
   "source": [
    "x.shape"
   ]
  },
  {
   "cell_type": "code",
   "execution_count": null,
   "id": "e6682da5-743a-42ff-bf77-ad2a23933b72",
   "metadata": {},
   "outputs": [],
   "source": []
  }
 ],
 "metadata": {
  "kernelspec": {
   "display_name": "Python 3 (ipykernel)",
   "language": "python",
   "name": "python3"
  },
  "language_info": {
   "codemirror_mode": {
    "name": "ipython",
    "version": 3
   },
   "file_extension": ".py",
   "mimetype": "text/x-python",
   "name": "python",
   "nbconvert_exporter": "python",
   "pygments_lexer": "ipython3",
   "version": "3.10.8"
  }
 },
 "nbformat": 4,
 "nbformat_minor": 5
}
