{
 "cells": [
  {
   "cell_type": "code",
   "execution_count": null,
   "id": "ca3f6937",
   "metadata": {},
   "outputs": [],
   "source": [
    "import os\n",
    "from os import listdir\n",
    "import numpy as np\n",
    "from skimage import data, io, filters\n",
    "import skimage\n",
    "from skimage.color import rgb2gray, label2rgb\n",
    "from skimage.measure import label, regionprops\n",
    "import skimage.exposure as exposure\n",
    "import matplotlib.pyplot as plt\n",
    "from skimage.morphology import closing, square, remove_small_holes, remove_small_objects\n",
    "from skimage.segmentation import clear_border\n",
    "import matplotlib.patches as mpatches\n",
    "from skimage.filters import threshold_mean"
   ]
  },
  {
   "cell_type": "code",
   "execution_count": null,
   "id": "9e9da56a",
   "metadata": {},
   "outputs": [],
   "source": [
    "list=[] #define list to be filled with images from directory\n",
    "for images in os.listdir(\"./\"):\n",
    "    if images.endswith((\".jpg\")):\n",
    "        list.append(images)\n",
    "list.append(list.pop(list.index(\"LT05_L1GS_153043_19990727_20200908_02_T2.jpg\")))\n",
    "print(*list, sep=\"\\n\")\n",
    "print(\"length:\",len(list)) #images in order from 02/01/1999 to 07/27/1999"
   ]
  },
  {
   "cell_type": "code",
   "execution_count": null,
   "id": "f08c12ca",
   "metadata": {},
   "outputs": [],
   "source": [
    "#choose the first 6 images in list, which are all similar\n",
    "Area=[] #list of areas\n",
    "for images in list[0:11]:\n",
    "    read=io.imread(images)\n",
    "    readzoom=read[5800:6100,1400:1900,:] #zoom into a very specific region with less noise\n",
    "    read_gray_unscaled=rgb2gray(readzoom) #convert images to grayscale\n",
    "    read_gray_scaled=exposure.rescale_intensity(read_gray_unscaled,out_range=np.uint8)\n",
    "    read_thres=threshold_mean(read_gray_scaled) #implement mean threshold and target \"closed\" portions of the image\n",
    "    read_binary=closing(read_gray_scaled>read_thres,square(18))\n",
    "    read_binary=remove_small_holes(read_binary,18) #clean up noise\n",
    "    read_binary=remove_small_objects(read_binary,15)\n",
    "    #plt.figure()\n",
    "    #plt.imshow(read_binary)\n",
    "    cleared=clear_border(read_binary) #declare label to use in regionprops\n",
    "    read_label=label(cleared)\n",
    "    image_label_overlay = label2rgb(read_label, image=read_binary, bg_label=0)\n",
    "    fig, ax = plt.subplots(figsize=(10, 6))\n",
    "    ax.imshow(image_label_overlay)\n",
    "    for region in regionprops(read_label):\n",
    "        if region.area<70: #target areas with area less than 70 pixels, and show where those regions are located\n",
    "            minr, minc, maxr, maxc = region.bbox\n",
    "            rect = mpatches.Rectangle((minc, minr), maxc - minc, maxr - minr,\n",
    "                              fill=False, edgecolor='red', linewidth=2)\n",
    "            ax.add_patch(rect)\n",
    "            Area.append(region.area)\n",
    "            print(images,\"Area:\",region.area) #print the final image, image name, and area\n",
    "    ax.set_axis_off()\n",
    "    plt.tight_layout()\n",
    "    plt.show() \n",
    "print(Area)"
   ]
  },
  {
   "cell_type": "code",
   "execution_count": null,
   "id": "ada819b9",
   "metadata": {},
   "outputs": [],
   "source": [
    "#Choose the last 4 images, which are also similar\n",
    "for images in list[11:21]:\n",
    "    read=io.imread(images)\n",
    "    readzoom=read[400:700,2200:2900,:] #zoom into a very specific region with less noise, different from above region\n",
    "    read_gray_unscaled=rgb2gray(readzoom) #convert images to grayscale\n",
    "    read_gray_scaled=exposure.rescale_intensity(read_gray_unscaled,out_range=np.uint8)\n",
    "    read_thres=threshold_mean(read_gray_scaled) #implement mean threshold and target \"closed\" portions of the image\n",
    "    read_binary=closing(read_gray_scaled>read_thres,square(18))\n",
    "    read_binary=remove_small_holes(read_binary,18) #clean up noise\n",
    "    read_binary=remove_small_objects(read_binary,18)\n",
    "    #plt.figure()\n",
    "    #plt.imshow(read_binary)\n",
    "    cleared=clear_border(read_binary) #declare label to use in regionprops\n",
    "    read_label=label(cleared)\n",
    "    image_label_overlay = label2rgb(read_label, image=read_binary, bg_label=0)\n",
    "    fig, ax = plt.subplots(figsize=(10, 6))\n",
    "    ax.imshow(image_label_overlay)\n",
    "    for region in regionprops(read_label):\n",
    "        if region.area<70:  #target areas with area less than 70 pixels, and show where those regions are located\n",
    "            minr, minc, maxr, maxc = region.bbox\n",
    "            rect = mpatches.Rectangle((minc, minr), maxc - minc, maxr - minr,\n",
    "                                      fill=False, edgecolor='red', linewidth=2)\n",
    "            ax.add_patch(rect)\n",
    "            Area.append(region.area)\n",
    "            print(images,\"Area:\",region.area) #print the final image, image name, and area\n",
    "    ax.set_axis_off()\n",
    "    plt.tight_layout()\n",
    "    plt.show()\n",
    "print(Area)"
   ]
  },
  {
   "cell_type": "code",
   "execution_count": null,
   "id": "a39703fa",
   "metadata": {},
   "outputs": [],
   "source": [
    "#print(Area)\n",
    "#import pandas as pd\n",
    "#data={\n",
    "#    'images': list,\n",
    "#    'Pixel Areas': Area\n",
    "#}\n",
    "#data_table=pd.DataFrame(data)\n",
    "#print(data_table)"
   ]
  },
  {
   "cell_type": "code",
   "execution_count": null,
   "id": "201a391b",
   "metadata": {},
   "outputs": [],
   "source": []
  }
 ],
 "metadata": {
  "kernelspec": {
   "display_name": "Python 3 (ipykernel)",
   "language": "python",
   "name": "python3"
  },
  "language_info": {
   "codemirror_mode": {
    "name": "ipython",
    "version": 3
   },
   "file_extension": ".py",
   "mimetype": "text/x-python",
   "name": "python",
   "nbconvert_exporter": "python",
   "pygments_lexer": "ipython3",
   "version": "3.10.8"
  }
 },
 "nbformat": 4,
 "nbformat_minor": 5
}
